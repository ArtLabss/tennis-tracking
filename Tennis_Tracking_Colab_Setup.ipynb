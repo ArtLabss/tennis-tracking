{
 "cells": [
  {
   "cell_type": "markdown",
   "id": "6eb77059",
   "metadata": {},
   "source": [
    "\n",
    "# Tennis Tracking Project Setup and Execution Guide\n",
    "\n",
    "This notebook provides a detailed guide on setting up and running the Tennis Tracking project in a Google Colab environment using a GPU."
   ]
  },
  {
   "cell_type": "markdown",
   "id": "0803b4d8",
   "metadata": {},
   "source": [
    "\n",
    "## 1. Set Up Your Environment\n",
    "\n",
    "Ensure your Google Colab session is set to use a GPU by going to `Runtime` > `Change runtime type` and selecting one of the GPU options as the hardware accelerator."
   ]
  },
  {
   "cell_type": "code",
   "execution_count": null,
   "id": "d89b3440",
   "metadata": {},
   "outputs": [],
   "source": [
    "\n",
    "!git clone https://github.com/ArtLabss/tennis-tracking.git"
   ]
  },
  {
   "cell_type": "markdown",
   "id": "b2000b44",
   "metadata": {},
   "source": [
    "\n",
    "## 3. YOLOv3 Weights Download\n",
    "\n",
    "Use the following command to download the YOLOv3 weights directly into the Yolov3 folder within your cloned repository."
   ]
  },
  {
   "cell_type": "code",
   "execution_count": null,
   "id": "6414787f",
   "metadata": {},
   "outputs": [],
   "source": [
    "\n",
    "!wget https://pjreddie.com/media/files/yolov3.weights -P tennis-tracking/Yolov3/"
   ]
  },
  {
   "cell_type": "markdown",
   "id": "7835ce54",
   "metadata": {},
   "source": [
    "\n",
    "## 4. Install Dependencies\n",
    "\n",
    "Install the required libraries. Google Colab already includes many dependencies, so you may only need to install a few missing ones."
   ]
  },
  {
   "cell_type": "code",
   "execution_count": null,
   "id": "cbacff01",
   "metadata": {},
   "outputs": [],
   "source": [
    "\n",
    "!pip install -r tennis-tracking/requirements.txt filterpy sktime"
   ]
  },
  {
   "cell_type": "markdown",
   "id": "78633942",
   "metadata": {},
   "source": [
    "\n",
    "## 5. Prepare Your Input Video\n",
    "\n",
    "Upload your video to Google Drive or directly to Colab using the sidebar. If using Google Drive, mount your drive."
   ]
  },
  {
   "cell_type": "code",
   "execution_count": null,
   "id": "0020d632",
   "metadata": {},
   "outputs": [],
   "source": [
    "\n",
    "from google.colab import drive\n",
    "drive.mount('/content/drive')"
   ]
  },
  {
   "cell_type": "markdown",
   "id": "1047ac14",
   "metadata": {},
   "source": [
    "\n",
    "## 6. Running the Script\n",
    "\n",
    "Change the directory to the cloned repository's root and execute the script with the necessary arguments."
   ]
  },
  {
   "cell_type": "code",
   "execution_count": null,
   "id": "2fb1cf42",
   "metadata": {},
   "outputs": [],
   "source": [
    "\n",
    "import os\n",
    "os.chdir('/content/tennis-tracking')\n",
    "\n",
    "!python predict_video.py --input_video_path=path_to_your_video --output_video_path=VideoOutput/video_output.mp4 --minimap=0 --bounce=0"
   ]
  },
  {
   "cell_type": "markdown",
   "id": "7ddf9282",
   "metadata": {},
   "source": [
    "\n",
    "### Additional Tips\n",
    "\n",
    "Automate video uploads using the Colab file upload utility."
   ]
  },
  {
   "cell_type": "code",
   "execution_count": null,
   "id": "10b7ccdb",
   "metadata": {},
   "outputs": [],
   "source": [
    "\n",
    "from google.colab import files\n",
    "uploaded = files.upload()\n",
    "# Follow the prompt to select and upload your video file."
   ]
  },
  {
   "cell_type": "markdown",
   "id": "57ea720b",
   "metadata": {},
   "source": [
    "\n",
    "Access output videos for download to your local machine."
   ]
  },
  {
   "cell_type": "code",
   "execution_count": null,
   "id": "dc50bd20",
   "metadata": {},
   "outputs": [],
   "source": [
    "\n",
    "from google.colab import files\n",
    "files.download('VideoOutput/video_output.mp4')\n",
    "# Replace 'VideoOutput/video_output.mp4' with the correct path if needed."
   ]
  },
  {
   "cell_type": "markdown",
   "id": "b34784f0",
   "metadata": {},
   "source": [
    "\n",
    "### Troubleshooting\n",
    "\n",
    "If you encounter errors, check the console output for messages indicating missing dependencies or errors in the script. Refer to the [project's issues page](https://github.com/ArtLabss/tennis-tracking/issues) for solutions or to report new issues."
   ]
  }
 ],
 "metadata": {},
 "nbformat": 4,
 "nbformat_minor": 5
}
